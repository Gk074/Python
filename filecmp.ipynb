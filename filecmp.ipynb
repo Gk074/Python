{
  "nbformat": 4,
  "nbformat_minor": 0,
  "metadata": {
    "colab": {
      "provenance": [],
      "authorship_tag": "ABX9TyP0fETfPx+g0PeVDFf7Bquy",
      "include_colab_link": true
    },
    "kernelspec": {
      "name": "python3",
      "display_name": "Python 3"
    },
    "language_info": {
      "name": "python"
    }
  },
  "cells": [
    {
      "cell_type": "markdown",
      "metadata": {
        "id": "view-in-github",
        "colab_type": "text"
      },
      "source": [
        "<a href=\"https://colab.research.google.com/github/Gk074/Python/blob/main/filecmp.ipynb\" target=\"_parent\"><img src=\"https://colab.research.google.com/assets/colab-badge.svg\" alt=\"Open In Colab\"/></a>"
      ]
    },
    {
      "cell_type": "code",
      "execution_count": null,
      "metadata": {
        "id": "cQY4v6zAJSNI"
      },
      "outputs": [],
      "source": [
        "# Developed By: Gokulakrishnan Ravi\n",
        "import difflib"
      ]
    },
    {
      "cell_type": "code",
      "source": [
        "with open('HistoricalDemand.txt') as file1:\n",
        "  file1_text = file1.readlines()\n",
        "file1_text.sort()"
      ],
      "metadata": {
        "id": "rmudG7fBKBWL"
      },
      "execution_count": null,
      "outputs": []
    },
    {
      "cell_type": "code",
      "source": [
        "with open('HistoricalDemand_3YR.txt') as file2:\n",
        "  file2_text = file2.readlines()\n",
        "file2_text.sort()"
      ],
      "metadata": {
        "id": "JsFlg90RLP8c"
      },
      "execution_count": null,
      "outputs": []
    },
    {
      "cell_type": "code",
      "source": [
        "output= open('output.txt', 'w',encoding='utf-8')\n",
        "for line in difflib.unified_diff(\n",
        "    file1_text,file2_text, fromfile='HistoricalDemand.txt',\n",
        "    tofile='HistoricalDemad_3YR.txt', lineterm=''):\n",
        "  if line.startswith(\"-\"):\n",
        "      output.write(line)\n",
        "output.close()"
      ],
      "metadata": {
        "id": "k56n5dn_LQFT"
      },
      "execution_count": null,
      "outputs": []
    },
    {
      "cell_type": "code",
      "source": [],
      "metadata": {
        "id": "_wviLjciLeib"
      },
      "execution_count": null,
      "outputs": []
    }
  ]
}